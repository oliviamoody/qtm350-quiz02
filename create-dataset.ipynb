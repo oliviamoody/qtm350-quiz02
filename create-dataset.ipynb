{
 "cells": [
  {
   "cell_type": "markdown",
   "metadata": {},
   "source": [
    "## Create the Gapminder dataset"
   ]
  },
  {
   "cell_type": "code",
   "execution_count": 9,
   "metadata": {},
   "outputs": [
    {
     "name": "stdout",
     "output_type": "stream",
     "text": [
      "Requirement already satisfied: pandas in /opt/anaconda3/lib/python3.12/site-packages (2.2.2)\n",
      "Collecting gapminder\n",
      "  Downloading gapminder-0.1-py3-none-any.whl.metadata (1.5 kB)\n",
      "Requirement already satisfied: numpy>=1.26.0 in /opt/anaconda3/lib/python3.12/site-packages (from pandas) (1.26.4)\n",
      "Requirement already satisfied: python-dateutil>=2.8.2 in /opt/anaconda3/lib/python3.12/site-packages (from pandas) (2.9.0.post0)\n",
      "Requirement already satisfied: pytz>=2020.1 in /opt/anaconda3/lib/python3.12/site-packages (from pandas) (2024.1)\n",
      "Requirement already satisfied: tzdata>=2022.7 in /opt/anaconda3/lib/python3.12/site-packages (from pandas) (2023.3)\n",
      "Requirement already satisfied: six>=1.5 in /opt/anaconda3/lib/python3.12/site-packages (from python-dateutil>=2.8.2->pandas) (1.16.0)\n",
      "Downloading gapminder-0.1-py3-none-any.whl (32 kB)\n",
      "Installing collected packages: gapminder\n",
      "Successfully installed gapminder-0.1\n"
     ]
    }
   ],
   "source": [
    "# Install packages\n",
    "!pip install pandas gapminder\n",
    "\n",
    "# Import necessary libraries\n",
    "import pandas as pd\n",
    "from gapminder import gapminder\n",
    "\n",
    "# Rename 'lifeExp' to 'life_expectancy' and 'gdpPercap' to 'gdp_per_capita'\n",
    "gapminder = gapminder.rename(columns={'lifeExp': 'life_expectancy',\n",
    "                                      'pop': 'population_millions', \n",
    "                                      'gdpPercap': 'gdp_per_capita'})\n",
    "\n",
    "# Convert population to millions\n",
    "gapminder['population_millions'] = gapminder['population_millions'] / 1_000_000\n",
    "\n",
    "# Create a new pandas DataFrame from the modified gapminder data\n",
    "gapminder_df = pd.DataFrame(gapminder)\n",
    "\n",
    "# Save the DataFrame as a CSV file\n",
    "gapminder_df.to_csv('gapminder.csv', index=False)"
   ]
  }
 ],
 "metadata": {
  "kernelspec": {
   "display_name": "base",
   "language": "python",
   "name": "python3"
  },
  "language_info": {
   "codemirror_mode": {
    "name": "ipython",
    "version": 3
   },
   "file_extension": ".py",
   "mimetype": "text/x-python",
   "name": "python",
   "nbconvert_exporter": "python",
   "pygments_lexer": "ipython3",
   "version": "3.12.4"
  }
 },
 "nbformat": 4,
 "nbformat_minor": 2
}
